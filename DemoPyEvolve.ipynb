{
 "cells": [
  {
   "cell_type": "code",
   "execution_count": 14,
   "metadata": {
    "collapsed": false
   },
   "outputs": [],
   "source": [
    "from pyevolve import GSimpleGA\n",
    "from pyevolve import G1DList\n",
    "from pyevolve import Selectors\n",
    "from pyevolve import Initializators, Mutators\n",
    "import numpy as np\n",
    "import pandas as pd\n",
    "from __init__ import *"
   ]
  },
  {
   "cell_type": "code",
   "execution_count": 68,
   "metadata": {
    "collapsed": false
   },
   "outputs": [
    {
     "name": "stdout",
     "output_type": "stream",
     "text": [
      "Generate X_traing, y_traing\n",
      "X_training loading...\n",
      "y_training loading...\n"
     ]
    }
   ],
   "source": [
    "X_training, y_training = get_training()\n",
    "param = [];\n",
    "fan_in = fan_out = 10\n",
    "theta_shape = (10,1)"
   ]
  },
  {
   "cell_type": "code",
   "execution_count": 73,
   "metadata": {
    "collapsed": false
   },
   "outputs": [],
   "source": [
    "X_data = X_training*100\n",
    "y_data = y_training*100"
   ]
  },
  {
   "cell_type": "code",
   "execution_count": 72,
   "metadata": {
    "collapsed": false
   },
   "outputs": [
    {
     "data": {
      "text/plain": [
       "array([[  7.,   5.,  11., ...,   3.,   4.,   4.],\n",
       "       [  9.,   7.,   5., ...,   2.,   3.,   4.],\n",
       "       [  5.,   9.,   7., ...,   4.,   2.,   3.],\n",
       "       ..., \n",
       "       [  8.,  10.,  18., ...,   7.,   9.,   8.],\n",
       "       [  9.,   8.,  10., ...,   8.,   7.,   9.],\n",
       "       [  6.,   9.,   8., ...,  32.,   8.,   7.]])"
      ]
     },
     "execution_count": 72,
     "metadata": {},
     "output_type": "execute_result"
    }
   ],
   "source": [
    "X_data"
   ]
  },
  {
   "cell_type": "code",
   "execution_count": 74,
   "metadata": {
    "collapsed": true
   },
   "outputs": [],
   "source": [
    "def sigmoid(x):\n",
    "        return 1.0 / (1 + np.exp(-x))\n",
    "def costFunction(X,y,theta):\n",
    "        m = float(len(X))\n",
    "        hThetaX = np.array(sigmoid(np.dot(X,theta)))\n",
    "        return np.sum(np.abs(y-hThetaX))\n",
    "def eval_score(chronosome):\n",
    "        theta = np.zeros(theta_shape)\n",
    "        for i in np.arange(theta_shape[0]) :\n",
    "            theta[i] = chronosome[i]\n",
    "        return costFunction(X_data,y_data,theta);"
   ]
  },
  {
   "cell_type": "code",
   "execution_count": 75,
   "metadata": {
    "collapsed": false
   },
   "outputs": [],
   "source": [
    "\n",
    "weights = G1DList.G1DList(10)\n",
    "lim = np.sqrt(6)/np.sqrt((fan_in+fan_out))\n",
    "weights.setParams(rangemin=-lim,rangemax=lim)\n",
    "weights.initializator.set(Initializators.G1DListInitializatorReal)\n",
    "weights.mutator.set(Mutators.G1DListMutatorRealGaussian)\n",
    "weights.evaluator.set(eval_score)"
   ]
  },
  {
   "cell_type": "code",
   "execution_count": null,
   "metadata": {
    "collapsed": false
   },
   "outputs": [],
   "source": []
  },
  {
   "cell_type": "code",
   "execution_count": 76,
   "metadata": {
    "collapsed": false
   },
   "outputs": [
    {
     "name": "stdout",
     "output_type": "stream",
     "text": [
      "Gen. 0 (0.00%): Max/Min/Avg Fitness(Raw) [493635.78(428829.99)/323598.20(392730.27)/411363.15(411363.15)]\n",
      "Gen. 10 (5.00%): Max/Min/Avg Fitness(Raw) [511371.78(428830.00)/0.00(392982.44)/455679.86(426143.15)]\n",
      "Gen. 20 (10.00%): Max/Min/Avg Fitness(Raw) [514548.06(428830.00)/0.00(426220.96)/496138.01(428790.05)]\n",
      "Gen. 30 (15.00%): Max/Min/Avg Fitness(Raw) [514586.88(428830.00)/0.00(428591.29)/483912.94(428822.40)]\n",
      "Gen. 40 (20.00%): Max/Min/Avg Fitness(Raw) [514595.90(428830.00)/0.00(428824.97)/501579.25(428829.91)]\n",
      "Gen. 50 (25.00%): Max/Min/Avg Fitness(Raw) [514596.00(428830.00)/0.00(428829.99)/460188.23(428830.00)]\n",
      "Gen. 60 (30.00%): Max/Min/Avg Fitness(Raw) [514595.96(428830.00)/0.00(428827.21)/508099.34(428829.97)]\n",
      "Gen. 70 (35.00%): Max/Min/Avg Fitness(Raw) [514496.00(428830.00)/0.00(428830.00)/452234.40(428830.00)]\n",
      "Gen. 80 (40.00%): Max/Min/Avg Fitness(Raw) [514595.99(428830.00)/0.00(428829.77)/508148.92(428830.00)]\n",
      "Gen. 90 (45.00%): Max/Min/Avg Fitness(Raw) [514595.94(428830.00)/0.00(428829.99)/506352.68(428830.00)]\n",
      "Gen. 100 (50.00%): Max/Min/Avg Fitness(Raw) [514595.94(428830.00)/0.00(428830.00)/483468.15(428830.00)]\n",
      "Gen. 110 (55.00%): Max/Min/Avg Fitness(Raw) [514596.00(428830.00)/0.00(428829.85)/498004.12(428830.00)]\n",
      "Gen. 120 (60.00%): Max/Min/Avg Fitness(Raw) [514595.85(428830.00)/0.00(428824.25)/496462.36(428829.88)]\n",
      "Gen. 130 (65.00%): Max/Min/Avg Fitness(Raw) [514594.09(428830.00)/0.00(428710.07)/503211.05(428828.41)]\n",
      "Gen. 140 (70.00%): Max/Min/Avg Fitness(Raw) [514595.94(428830.00)/0.00(428829.98)/507027.18(428830.00)]\n",
      "Gen. 150 (75.00%): Max/Min/Avg Fitness(Raw) [514624.00(428830.00)/0.00(428830.00)/463894.40(428830.00)]\n",
      "Gen. 160 (80.00%): Max/Min/Avg Fitness(Raw) [514608.00(428830.00)/0.00(428830.00)/480231.25(428830.00)]\n",
      "Gen. 170 (85.00%): Max/Min/Avg Fitness(Raw) [514597.25(428830.00)/0.00(428830.00)/496575.36(428830.00)]\n",
      "Gen. 180 (90.00%): Max/Min/Avg Fitness(Raw) [514596.06(428830.00)/0.00(428829.99)/486351.90(428830.00)]\n",
      "Gen. 190 (95.00%): Max/Min/Avg Fitness(Raw) [514595.95(428830.00)/0.00(428826.62)/508036.76(428829.96)]\n",
      "Gen. 200 (100.00%): Max/Min/Avg Fitness(Raw) [514595.75(428830.00)/0.00(428830.00)/498789.02(428830.00)]\n",
      "Total time elapsed: 6.499 seconds.\n",
      "- GenomeBase\n",
      "\tScore:\t\t\t 428830.000000\n",
      "\tFitness:\t\t 514595.750000\n",
      "\n",
      "\tParams:\t\t {'rangemax': 0.54772255750516607, 'rangemin': -0.54772255750516607}\n",
      "\n",
      "\tSlot [Evaluator] (Count: 1)\n",
      "\t\tName: eval_score - Weight: 0.50\n",
      "\tSlot [Initializator] (Count: 1)\n",
      "\t\tName: G1DListInitializatorReal - Weight: 0.50\n",
      "\t\tDoc:  Real initialization function of G1DList\n",
      "\n",
      "   This initializator accepts the *rangemin* and *rangemax* genome parameters.\n",
      "\n",
      "   \n",
      "\tSlot [Mutator] (Count: 1)\n",
      "\t\tName: G1DListMutatorRealGaussian - Weight: 0.50\n",
      "\t\tDoc:  The mutator of G1DList, Gaussian Mutator\n",
      "\n",
      "   Accepts the *rangemin* and *rangemax* genome parameters, both optional. Also\n",
      "   accepts the parameter *gauss_mu* and the *gauss_sigma* which respectively\n",
      "   represents the mean and the std. dev. of the random distribution.\n",
      "\n",
      "   \n",
      "\tSlot [Crossover] (Count: 1)\n",
      "\t\tName: G1DListCrossoverSinglePoint - Weight: 0.50\n",
      "\t\tDoc:  The crossover of G1DList, Single Point\n",
      "\n",
      "   .. warning:: You can't use this crossover method for lists with just one element.\n",
      "\n",
      "   \n",
      "\n",
      "- G1DList\n",
      "\tList size:\t 10\n",
      "\tList:\t\t [-0.54772255750516607, -0.54772255750516607, -0.54772255750516607, -0.54772255750516607, -0.54772255750516607, -0.54772255750516607, -0.54772255750516607, -0.54772255750516607, -0.54772255750516607, -0.54772255750516607]\n",
      "\n",
      "\n"
     ]
    }
   ],
   "source": [
    "ga = GSimpleGA.GSimpleGA(weights)\n",
    "ga.selector.set(Selectors.GRouletteWheel)\n",
    "ga.setGenerations(200)\n",
    "ga.evolve(freq_stats=10)\n",
    "print ga.bestIndividual()"
   ]
  },
  {
   "cell_type": "code",
   "execution_count": 90,
   "metadata": {
    "collapsed": false
   },
   "outputs": [
    {
     "data": {
      "text/plain": [
       "<bound method GPopulation.getParam of - GPopulation\n",
       "\tPopulation Size:\t 80\n",
       "\tSort Type:\t\t Scaled\n",
       "\tMinimax Type:\t\t Maximize\n",
       "\tSlot [Scale Method] (Count: 1)\n",
       "\t\tName: LinearScaling - Weight: 0.50\n",
       "\t\tDoc:  Linear Scaling scheme\n",
       "\n",
       "   .. warning :: Linear Scaling is only for positive raw scores\n",
       "\n",
       "   \n",
       "\n",
       "- Statistics\n",
       "\tMinimum raw score                             = 428830.00\n",
       "\tFitness average                               = 498789.02\n",
       "\tMinimum fitness                               = 0.00\n",
       "\tRaw scores variance                           = 0.00\n",
       "\tStandard deviation of raw scores              = 0.00\n",
       "\tAverage of raw scores                         = 428830.00\n",
       "\tMaximum fitness                               = 514595.75\n",
       "\tMaximum raw score                             = 428830.00\n",
       ">"
      ]
     },
     "execution_count": 90,
     "metadata": {},
     "output_type": "execute_result"
    }
   ],
   "source": [
    "pop = ga.getPopulation()\n",
    "pop.getParam"
   ]
  },
  {
   "cell_type": "code",
   "execution_count": null,
   "metadata": {
    "collapsed": true
   },
   "outputs": [],
   "source": []
  },
  {
   "cell_type": "code",
   "execution_count": null,
   "metadata": {
    "collapsed": true
   },
   "outputs": [],
   "source": []
  },
  {
   "cell_type": "code",
   "execution_count": null,
   "metadata": {
    "collapsed": true
   },
   "outputs": [],
   "source": []
  },
  {
   "cell_type": "code",
   "execution_count": null,
   "metadata": {
    "collapsed": true
   },
   "outputs": [],
   "source": []
  },
  {
   "cell_type": "code",
   "execution_count": null,
   "metadata": {
    "collapsed": true
   },
   "outputs": [],
   "source": []
  }
 ],
 "metadata": {
  "kernelspec": {
   "display_name": "Python 2",
   "language": "python",
   "name": "python2"
  },
  "language_info": {
   "codemirror_mode": {
    "name": "ipython",
    "version": 2
   },
   "file_extension": ".py",
   "mimetype": "text/x-python",
   "name": "python",
   "nbconvert_exporter": "python",
   "pygments_lexer": "ipython2",
   "version": "2.7.6"
  }
 },
 "nbformat": 4,
 "nbformat_minor": 0
}
