{
 "metadata": {
  "name": "CPUPredictV1"
 },
 "nbformat": 3,
 "nbformat_minor": 0,
 "worksheets": [
  {
   "cells": [
    {
     "cell_type": "code",
     "collapsed": false,
     "input": "import numpy as np\nimport pandas as pd\nimport matplotlib.pyplot as pl\nimport sklearn\nfrom sknn.mlp import Regressor, Layer\nimport pickle\nfrom sknn.platform import cpu64",
     "language": "python",
     "metadata": {},
     "outputs": [],
     "prompt_number": 68
    },
    {
     "cell_type": "code",
     "collapsed": false,
     "input": "raw_data = pd.read_csv(\"/home/nhuan/MyWorking/tpds-2012-workload.csv\");\nnn = Regressor(\n    layers=[\n        Layer(\"Rectifier\", units=10),\n        Layer(\"Linear\")],\n    learning_rate=0.02,\n    n_iter=30)\nn_row = raw_data.icol(1).count()\nn_input = 11\nn_range = 57800",
     "language": "python",
     "metadata": {},
     "outputs": [],
     "prompt_number": 69
    },
    {
     "cell_type": "code",
     "collapsed": false,
     "input": "X_training = np.asarray([[raw_data.ix[t-i][4] for i in range(1,n_input)]\n             for t in np.arange(n_input-1,n_range+5)])\ny_training = np.asarray([raw_data.ix[t][4] for t in np.arange(n_input-1,n_range+5)])\nnn.fit(X_training,y_training)\n",
     "language": "python",
     "metadata": {},
     "outputs": [
      {
       "metadata": {},
       "output_type": "pyout",
       "prompt_number": 70,
       "text": "Regressor(batch_size=1, debug=False, dropout_rate=None, f_stable=0.001,\n     hidden0=<sknn.nn.Layer `Rectifier`: name=u'hidden0', units=10>,\n     layers=[<sknn.nn.Layer `Rectifier`: name=u'hidden0', units=10>, <sknn.nn.Layer `Linear`: name=u'output', units=1>],\n     learning_momentum=0.9, learning_rate=0.02, learning_rule=u'sgd',\n     loss_type=u'mse', mutator=None, n_iter=30, n_stable=50,\n     output=<sknn.nn.Layer `Linear`: name=u'output', units=1>,\n     random_state=None, regularize=None, valid_set=None, valid_size=0.0,\n     verbose=None, weight_decay=None)"
      }
     ],
     "prompt_number": 70
    },
    {
     "cell_type": "code",
     "collapsed": false,
     "input": "n_sample2 = np.asarray([[raw_data.ix[t-i][4] for i in range(1,n_input)] for t in np.arange (289*30,289*31)])\nn_test2 =  np.asarray([raw_data.ix[t][4] for t in np.arange(289*30+1,289*31+1)])\nnn.score(n_sample2,n_test2)\n",
     "language": "python",
     "metadata": {},
     "outputs": [
      {
       "metadata": {},
       "output_type": "pyout",
       "prompt_number": 72,
       "text": "0.14019663152415707"
      }
     ],
     "prompt_number": 72
    },
    {
     "cell_type": "code",
     "collapsed": false,
     "input": "pred = np.asarray(nn.predict(n_sample2))\nax = pl.subplot()\nax.set_color_cycle(['blue','red'])\npl.plot(n_test2)\npl.plot(pred)\npl.show()",
     "language": "python",
     "metadata": {},
     "outputs": [],
     "prompt_number": 74
    },
    {
     "cell_type": "code",
     "collapsed": false,
     "input": "pd.DataFrame(zip(pred,n_test2),columns=[\"Prediction\",\"Real\"])",
     "language": "python",
     "metadata": {},
     "outputs": []
    },
    {
     "cell_type": "code",
     "collapsed": false,
     "input": "",
     "language": "python",
     "metadata": {},
     "outputs": []
    }
   ],
   "metadata": {}
  }
 ]
}