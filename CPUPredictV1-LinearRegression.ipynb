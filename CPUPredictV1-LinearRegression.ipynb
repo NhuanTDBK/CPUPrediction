{
 "metadata": {
  "name": "CPUPredictV1-LinearRegression"
 },
 "nbformat": 3,
 "nbformat_minor": 0,
 "worksheets": [
  {
   "cells": [
    {
     "cell_type": "code",
     "collapsed": false,
     "input": "import numpy as np\nimport pandas as pd\nimport matplotlib.pyplot as pl\nimport sklearn\nfrom sklearn import linear_model as lm\nfrom sknn.mlp import Regressor, Layer\nimport pickle",
     "language": "python",
     "metadata": {},
     "outputs": [],
     "prompt_number": 1
    },
    {
     "cell_type": "code",
     "collapsed": false,
     "input": "raw_data = pd.read_csv(\"/home/nhuan/MyWorking/tpds-2012-workload.csv\");\nnn = lm.RidgeCV(alphas=[0.01, 0.1,1.0,10.0])\nn_row = raw_data.icol(1).count()\nn_input = 10\nn_range = 28900",
     "language": "python",
     "metadata": {},
     "outputs": [],
     "prompt_number": 2
    },
    {
     "cell_type": "code",
     "collapsed": false,
     "input": "X_training = np.asarray([[raw_data.ix[t-i][4] for i in range(1,n_input)]\n             for t in np.arange(n_input-1,n_range+5)])\ny_training = np.asarray([raw_data.ix[t][4] for t in np.arange(n_input-1,n_range+5)])\nnn.fit(X_training,y_training)\n",
     "language": "python",
     "metadata": {},
     "outputs": [
      {
       "metadata": {},
       "output_type": "pyout",
       "prompt_number": 3,
       "text": "RidgeCV(alphas=[0.01, 0.1, 1.0, 10.0], cv=None, fit_intercept=True,\n    gcv_mode=None, normalize=False, scoring=None, store_cv_values=False)"
      }
     ],
     "prompt_number": 3
    },
    {
     "cell_type": "code",
     "collapsed": false,
     "input": "n_sample2 = np.asarray([[raw_data.ix[t-i][4] for i in range(1,n_input)] for t in np.arange (30000,30400)])\nn_test2 =  np.asarray([raw_data.ix[t][4] for t in np.arange(30001,30401)])\nnn.score(n_sample2,n_test2)",
     "language": "python",
     "metadata": {},
     "outputs": []
    },
    {
     "cell_type": "code",
     "collapsed": false,
     "input": "pred = np.asarray(nn.predict(n_sample2))\nax = pl.subplot()\nax.set_color_cycle(['blue','red'])\npl.plot(n_test2)\npl.plot(pred)\npl.show()",
     "language": "python",
     "metadata": {},
     "outputs": []
    },
    {
     "cell_type": "code",
     "collapsed": false,
     "input": "nn.alpha_",
     "language": "python",
     "metadata": {},
     "outputs": []
    },
    {
     "cell_type": "code",
     "collapsed": false,
     "input": "dpd.DataFrame(zip(pred,n_test2),columns=[\"Prediction\",\"Real\"],index=np.arange(30001,30401))",
     "language": "python",
     "metadata": {},
     "outputs": []
    },
    {
     "cell_type": "code",
     "collapsed": false,
     "input": "a = raw_data[raw_data[\"VM ID\"]==1]\na[a[\"Time Frame\"]==1]",
     "language": "python",
     "metadata": {},
     "outputs": []
    },
    {
     "cell_type": "code",
     "collapsed": false,
     "input": "",
     "language": "python",
     "metadata": {},
     "outputs": []
    },
    {
     "cell_type": "code",
     "collapsed": false,
     "input": "",
     "language": "python",
     "metadata": {},
     "outputs": []
    }
   ],
   "metadata": {}
  }
 ]
}