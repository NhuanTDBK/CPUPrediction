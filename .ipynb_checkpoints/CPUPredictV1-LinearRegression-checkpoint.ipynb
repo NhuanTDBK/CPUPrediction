{
 "cells": [
  {
   "cell_type": "code",
   "execution_count": 1,
   "metadata": {
    "collapsed": false
   },
   "outputs": [],
   "source": [
    "import numpy as np\n",
    "import pandas as pd\n",
    "import matplotlib.pyplot as pl\n",
    "import sklearn\n",
    "from sklearn import linear_model as lm\n",
    "from sknn.mlp import Regressor, Layer\n",
    "import pickle"
   ]
  },
  {
   "cell_type": "code",
   "execution_count": 2,
   "metadata": {
    "collapsed": false
   },
   "outputs": [],
   "source": [
    "raw_data = pd.read_csv(\"/home/nhuan/MyWorking/tpds-2012-workload.csv\");\n",
    "nn = lm.RidgeCV(alphas=[0.01, 0.1,1.0,10.0])\n",
    "n_row = raw_data.icol(1).count()\n",
    "n_input = 10\n",
    "n_range = 28900"
   ]
  },
  {
   "cell_type": "code",
   "execution_count": 3,
   "metadata": {
    "collapsed": false
   },
   "outputs": [
    {
     "data": {
      "text/plain": [
       "RidgeCV(alphas=[0.01, 0.1, 1.0, 10.0], cv=None, fit_intercept=True,\n",
       "    gcv_mode=None, normalize=False, scoring=None, store_cv_values=False)"
      ]
     },
     "execution_count": 3,
     "metadata": {},
     "output_type": "execute_result"
    }
   ],
   "source": [
    "X_training = np.asarray([[raw_data.ix[t-i][4] for i in range(1,n_input)]\n",
    "             for t in np.arange(n_input-1,n_range+5)])\n",
    "y_training = np.asarray([raw_data.ix[t][4] for t in np.arange(n_input-1,n_range+5)])\n",
    "nn.fit(X_training,y_training)\n"
   ]
  },
  {
   "cell_type": "code",
   "execution_count": null,
   "metadata": {
    "collapsed": false
   },
   "outputs": [],
   "source": [
    "n_sample2 = np.asarray([[raw_data.ix[t-i][4] for i in range(1,n_input)] for t in np.arange (30000,30400)])\n",
    "n_test2 =  np.asarray([raw_data.ix[t][4] for t in np.arange(30001,30401)])\n",
    "nn.score(n_sample2,n_test2)"
   ]
  },
  {
   "cell_type": "code",
   "execution_count": null,
   "metadata": {
    "collapsed": false
   },
   "outputs": [],
   "source": [
    "pred = np.asarray(nn.predict(n_sample2))\n",
    "ax = pl.subplot()\n",
    "ax.set_color_cycle(['blue','red'])\n",
    "pl.plot(n_test2)\n",
    "pl.plot(pred)\n",
    "pl.show()"
   ]
  },
  {
   "cell_type": "code",
   "execution_count": null,
   "metadata": {
    "collapsed": false
   },
   "outputs": [],
   "source": [
    "nn.alpha_"
   ]
  },
  {
   "cell_type": "code",
   "execution_count": null,
   "metadata": {
    "collapsed": false
   },
   "outputs": [],
   "source": [
    "dpd.DataFrame(zip(pred,n_test2),columns=[\"Prediction\",\"Real\"],index=np.arange(30001,30401))"
   ]
  },
  {
   "cell_type": "code",
   "execution_count": null,
   "metadata": {
    "collapsed": false
   },
   "outputs": [],
   "source": [
    "a = raw_data[raw_data[\"VM ID\"]==1]\n",
    "a[a[\"Time Frame\"]==1]"
   ]
  },
  {
   "cell_type": "code",
   "execution_count": null,
   "metadata": {
    "collapsed": false
   },
   "outputs": [],
   "source": []
  },
  {
   "cell_type": "code",
   "execution_count": null,
   "metadata": {
    "collapsed": false
   },
   "outputs": [],
   "source": []
  }
 ],
 "metadata": {
  "kernelspec": {
   "display_name": "Python 2",
   "language": "python",
   "name": "python2"
  },
  "language_info": {
   "codemirror_mode": {
    "name": "ipython",
    "version": 2
   },
   "file_extension": ".py",
   "mimetype": "text/x-python",
   "name": "python",
   "nbconvert_exporter": "python",
   "pygments_lexer": "ipython2",
   "version": "2.7.6"
  }
 },
 "nbformat": 4,
 "nbformat_minor": 0
}
