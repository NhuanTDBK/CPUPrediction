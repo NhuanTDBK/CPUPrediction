{
 "cells": [
  {
   "cell_type": "code",
   "execution_count": 1,
   "metadata": {
    "collapsed": true
   },
   "outputs": [],
   "source": [
    "import numpy as np\n",
    "import pandas as pd\n",
    "import matplotlib.pyplot as plt\n",
    "import pickle\n",
    "import sklearn\n",
    "from sklearn.metrics import mean_squared_error\n",
    "import theano\n",
    "import lasagne as ls\n",
    "from theano import tensor as T\n",
    "from lasagne.layers import InputLayer, DenseLayer\n",
    "from lasagne.updates import nesterov_momentum\n",
    "from lasagne.nonlinearities import rectify\n",
    "from nolearn.lasagne import NeuralNet"
   ]
  },
  {
   "cell_type": "code",
   "execution_count": 2,
   "metadata": {
    "collapsed": false
   },
   "outputs": [
    {
     "name": "stdout",
     "output_type": "stream",
     "text": [
      "Reading file......\n",
      "Generate X_traing, y_traing\n",
      "X_training loading...\n",
      "y_training loading...\n",
      "Multi Layer Perceptron...\n",
      "Neural network initialize\n"
     ]
    }
   ],
   "source": [
    "#Init data training\n",
    "print \"Reading file......\"\n",
    "raw_data = pd.read_csv(\"tpds-2012-workload.csv\");\n",
    "n_row = 288\n",
    "n_input = 10\n",
    "data = raw_data[\"Utilization\"]\n",
    "print \"Generate X_traing, y_traing\"\n",
    "print \"X_training loading...\"\n",
    "X_training = np.asarray([[data[t-i-1] for i in range(0,n_input)]\n",
    "             for t in np.arange(n_input,n_row)])\n",
    "print \"y_training loading...\"\n",
    "y_training = data[n_input:n_row]\n",
    "return X_training, y_training\n",
    "\n",
    "\n",
    "print \"Multi Layer Perceptron...\"\n",
    "#Build layer for MLP\n",
    "l_in = ls.layers.InputLayer(shape=(None,10),input_var=None)\n",
    "l_hidden = ls.layers.DenseLayer(l_in,num_units=10,nonlinearity=ls.nonlinearities.rectify)\n",
    "network = l_out = ls.layers.DenseLayer(l_hidden,num_units=1)\n",
    "print \"Neural network initialize\"\n",
    "#Init Neural net\n",
    "net1 = NeuralNet(\n",
    "    layers=network,\n",
    "    # optimization method:\n",
    "    update=nesterov_momentum,\n",
    "    update_learning_rate=0.01,\n",
    "    update_momentum=0.9,\n",
    "    regression=True,  # flag to indicate we're dealing with regression problem\n",
    "    max_epochs=400,  # we want to train this many epochs\n",
    "    verbose=1,\n",
    ")"
   ]
  },
  {
   "cell_type": "code",
   "execution_count": 3,
   "metadata": {
    "collapsed": false
   },
   "outputs": [
    {
     "name": "stdout",
     "output_type": "stream",
     "text": [
      "Loaded parameters to layer 'dense1' (shape 10x10).\n",
      "Loaded parameters to layer 'dense1' (shape 10).\n",
      "Loaded parameters to layer 'dense2' (shape 10x1).\n",
      "Loaded parameters to layer 'dense2' (shape 1).\n"
     ]
    }
   ],
   "source": [
    "net1.load_params_from('saveNeuralNetwork.tdn')"
   ]
  },
  {
   "cell_type": "code",
   "execution_count": 4,
   "metadata": {
    "collapsed": false
   },
   "outputs": [],
   "source": [
    "y_pred = net1.predict(X_training)"
   ]
  },
  {
   "cell_type": "code",
   "execution_count": 5,
   "metadata": {
    "collapsed": false
   },
   "outputs": [
    {
     "data": {
      "text/plain": [
       "0.017155293014217313"
      ]
     },
     "execution_count": 5,
     "metadata": {},
     "output_type": "execute_result"
    }
   ],
   "source": [
    "net1.score(X_training,y_training)"
   ]
  },
  {
   "cell_type": "code",
   "execution_count": 6,
   "metadata": {
    "collapsed": false
   },
   "outputs": [],
   "source": [
    "ax = plt.subplot()\n",
    "ax.set_color_cycle(['blue','red'])\n",
    "ax.plot(y_training,label=\"actual\")\n",
    "ax.plot(y_pred,label=\"predict\")\n",
    "ax.legend()\n",
    "plt.show()"
   ]
  },
  {
   "cell_type": "code",
   "execution_count": 32,
   "metadata": {
    "collapsed": false
   },
   "outputs": [
    {
     "name": "stdout",
     "output_type": "stream",
     "text": [
      "None\n"
     ]
    }
   ],
   "source": [
    "hidden_layer= net1.get_all_layers()[1]\n",
    "print hidden_layer.params.get('b')"
   ]
  },
  {
   "cell_type": "code",
   "execution_count": null,
   "metadata": {
    "collapsed": true
   },
   "outputs": [],
   "source": []
  }
 ],
 "metadata": {
  "kernelspec": {
   "display_name": "Python 2",
   "language": "python",
   "name": "python2"
  },
  "language_info": {
   "codemirror_mode": {
    "name": "ipython",
    "version": 2
   },
   "file_extension": ".py",
   "mimetype": "text/x-python",
   "name": "python",
   "nbconvert_exporter": "python",
   "pygments_lexer": "ipython2",
   "version": "2.7.6"
  }
 },
 "nbformat": 4,
 "nbformat_minor": 0
}
