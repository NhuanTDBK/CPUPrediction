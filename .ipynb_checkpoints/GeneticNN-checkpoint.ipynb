{
 "cells": [
  {
   "cell_type": "code",
   "execution_count": 1,
   "metadata": {
    "collapsed": false
   },
   "outputs": [
    {
     "name": "stderr",
     "output_type": "stream",
     "text": [
      "WARNING:sknn:Theano was already imported and cannot be reconfigured.\n"
     ]
    }
   ],
   "source": [
    "\n",
    "\n",
    "import numpy as np\n",
    "import pandas as pd\n",
    "import matplotlib.pyplot as pl\n",
    "import pickle\n",
    "import sklearn\n",
    "from sklearn.metrics import mean_squared_error\n",
    "import theano\n",
    "import lasagne as ls\n",
    "from theano import tensor as T\n",
    "from lasagne.layers import InputLayer, DenseLayer\n",
    "from lasagne.updates import nesterov_momentum\n",
    "from lasagne.nonlinearities import rectify\n",
    "from nolearn.lasagne import NeuralNet\n",
    "from __init__ import *"
   ]
  },
  {
   "cell_type": "code",
   "execution_count": null,
   "metadata": {
    "collapsed": true
   },
   "outputs": [],
   "source": [
    "\n",
    "#Init data training\n",
    "print \"Reading file......\"\n",
    "X_training, y_training = get_training()\n",
    "if(X_training.shape[0]!=y_training.shape[0]):\n",
    "    print \"X_training shape must match y_training shape\"\n",
    "print \"Generate X_test and y_test\"\n",
    "n_input = 11\n",
    "print \"X_test...\"\n",
    "n_sample2 = np.asarray([[raw_data.ix[t-i][4] for i in range(1,n_input)] for t in np.arange (289*400,289*410)])\n",
    "print \"y_test...\"\n",
    "n_test2 =  np.asarray([raw_data.ix[t][4] for t in np.arange(289*400+1,289*410+1)])\n",
    "print \"Multi Layer Perceptron...\"\n",
    "parameter = pkl.load(open('saveGenetic.p', 'rb'))\n",
    "#Build layer for MLP\n",
    "l_in = ls.layers.InputLayer(shape=(None,10),input_var=None)\n",
    "l_hidden = ls.layers.DenseLayer(l_in,num_units=10,nonlinearity=ls.nonlinearities.rectify,W=parameter)\n",
    "network = l_out = ls.layers.DenseLayer(l_hidden,num_units=1)\n",
    "print \"Neural network initialize\"\n",
    "#Init Neural net\n",
    "net1 = NeuralNet(\n",
    "    layers=network,\n",
    "    # optimization method:\n",
    "    update=nesterov_momentum,\n",
    "    update_learning_rate=0.01,\n",
    "    update_momentum=0.9,\n",
    "    regression=True,  # flag to indicate we're dealing with regression problem\n",
    "    max_epochs=400,  # we want to train this many epochs\n",
    "    verbose=1,\n",
    ")\n",
    "#\n",
    "print \"Training time!!!!!.....\"\n",
    "net1.fit(X_training,y_training)\n",
    "net1.save_params_to(\"saveNeuralNetwork.tdn\")\n",
    "print \"Score rate = \"\n",
    "print net1.score(n_sample2,n_test2)\n",
    "print net1.predict(n_sample2)[0:2]\n"
   ]
  }
 ],
 "metadata": {
  "kernelspec": {
   "display_name": "Python 2",
   "language": "python",
   "name": "python2"
  },
  "language_info": {
   "codemirror_mode": {
    "name": "ipython",
    "version": 2
   },
   "file_extension": ".py",
   "mimetype": "text/x-python",
   "name": "python",
   "nbconvert_exporter": "python",
   "pygments_lexer": "ipython2",
   "version": "2.7.6"
  }
 },
 "nbformat": 4,
 "nbformat_minor": 0
}
