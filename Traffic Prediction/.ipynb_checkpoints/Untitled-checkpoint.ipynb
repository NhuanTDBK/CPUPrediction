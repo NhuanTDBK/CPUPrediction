{
 "cells": [
  {
   "cell_type": "code",
   "execution_count": 46,
   "metadata": {
    "collapsed": true
   },
   "outputs": [],
   "source": [
    "import pandas as pd\n",
    "import numpy as np\n",
    "from pandas import HDFStore"
   ]
  },
  {
   "cell_type": "code",
   "execution_count": 53,
   "metadata": {
    "collapsed": false
   },
   "outputs": [],
   "source": [
    "raw_data_name = \"ita_public_tools/output/data.csv\"\n",
    "raw_data = pd.read_csv(raw_data_name)\n",
    "store = HDFStore(\"storeTraffic.h5\")"
   ]
  },
  {
   "cell_type": "code",
   "execution_count": 62,
   "metadata": {
    "collapsed": false
   },
   "outputs": [],
   "source": [
    "data = raw_data.groupby('Timestamp').count()[\"Timestamp\"]\n",
    "store[\"conn\"] = data"
   ]
  },
  {
   "cell_type": "code",
   "execution_count": 49,
   "metadata": {
    "collapsed": false
   },
   "outputs": [],
   "source": [
    "# n_input = 10\n",
    "# n_row = data.shape[0]\n",
    "# print \"Generate X_training, y_training\"\n",
    "# print \"X_training loading...\"\n",
    "# X_training = np.asarray([[data[t-i-1] for i in range(0,n_input)]\n",
    "#              for t in np.arange(n_input,n_row)])"
   ]
  },
  {
   "cell_type": "code",
   "execution_count": 74,
   "metadata": {
    "collapsed": true
   },
   "outputs": [],
   "source": [
    "data = store[\"conn\"][1:100]"
   ]
  },
  {
   "cell_type": "code",
   "execution_count": 75,
   "metadata": {
    "collapsed": false
   },
   "outputs": [
    {
     "data": {
      "text/plain": [
       "Timestamp\n",
       "893973603     4\n",
       "893973604     8\n",
       "893973605    25\n",
       "893973606    31\n",
       "893973607    27\n",
       "893973608    17\n",
       "893973609    14\n",
       "893973610    24\n",
       "893973611    15\n",
       "893973612    17\n",
       "893973613    19\n",
       "893973614    22\n",
       "893973615    20\n",
       "893973616    13\n",
       "893973617    12\n",
       "...\n",
       "893973687     8\n",
       "893973688    11\n",
       "893973689    10\n",
       "893973690    15\n",
       "893973691     9\n",
       "893973692    14\n",
       "893973693     8\n",
       "893973694     6\n",
       "893973695    17\n",
       "893973696    12\n",
       "893973697    11\n",
       "893973698     7\n",
       "893973699     9\n",
       "893973700    13\n",
       "893973701    10\n",
       "Name: Timestamp, Length: 99, dtype: int64"
      ]
     },
     "execution_count": 75,
     "metadata": {},
     "output_type": "execute_result"
    }
   ],
   "source": [
    "data"
   ]
  },
  {
   "cell_type": "code",
   "execution_count": 72,
   "metadata": {
    "collapsed": false
   },
   "outputs": [],
   "source": [
    "X_training = np.asarray([[data.iloc[t-i-1] for i in range(0,n_input)]\n",
    "                 for t in np.arange(10,data.shape[0])])"
   ]
  },
  {
   "cell_type": "code",
   "execution_count": 77,
   "metadata": {
    "collapsed": false
   },
   "outputs": [],
   "source": [
    "n_sample2 = np.asarray(data.iloc[0:10])"
   ]
  },
  {
   "cell_type": "code",
   "execution_count": 78,
   "metadata": {
    "collapsed": false
   },
   "outputs": [
    {
     "data": {
      "text/plain": [
       "array([ 4,  8, 25, 31, 27, 17, 14, 24, 15, 17])"
      ]
     },
     "execution_count": 78,
     "metadata": {},
     "output_type": "execute_result"
    }
   ],
   "source": [
    "n_sample2"
   ]
  }
 ],
 "metadata": {
  "kernelspec": {
   "display_name": "Python 2",
   "language": "python",
   "name": "python2"
  },
  "language_info": {
   "codemirror_mode": {
    "name": "ipython",
    "version": 2
   },
   "file_extension": ".py",
   "mimetype": "text/x-python",
   "name": "python",
   "nbconvert_exporter": "python",
   "pygments_lexer": "ipython2",
   "version": "2.7.6"
  }
 },
 "nbformat": 4,
 "nbformat_minor": 0
}
