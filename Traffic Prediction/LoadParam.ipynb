{
 "cells": [
  {
   "cell_type": "code",
   "execution_count": 73,
   "metadata": {
    "collapsed": false
   },
   "outputs": [],
   "source": [
    "import numpy as np\n",
    "import pandas as pd\n",
    "import matplotlib.pyplot as pl\n",
    "import pickle as pkl\n",
    "import sklearn\n",
    "from sklearn.metrics import mean_squared_error\n",
    "import theano\n",
    "import lasagne as ls\n",
    "from theano import tensor as T\n",
    "from lasagne.layers import InputLayer, DenseLayer\n",
    "from lasagne.updates import nesterov_momentum\n",
    "from lasagne.nonlinearities import rectify\n",
    "from nolearn.lasagne import NeuralNet\n",
    "from pandas import HDFStore\n",
    "store = HDFStore(\"storeTraffic.h5\")"
   ]
  },
  {
   "cell_type": "code",
   "execution_count": 56,
   "metadata": {
    "collapsed": false
   },
   "outputs": [
    {
     "name": "stdout",
     "output_type": "stream",
     "text": [
      "Neural network initialize\n"
     ]
    }
   ],
   "source": [
    "#Build layer for MLP\n",
    "l_in = ls.layers.InputLayer(shape=(None,10),input_var=None)\n",
    "l_hidden = ls.layers.DenseLayer(l_in,num_units=10,nonlinearity=ls.nonlinearities.rectify)\n",
    "network = l_out = ls.layers.DenseLayer(l_hidden,num_units=1)\n",
    "print \"Neural network initialize\"\n",
    "#Init Neural net\n",
    "net1 = NeuralNet(\n",
    "    layers=network,\n",
    "    # optimization method:\n",
    "    update=nesterov_momentum,\n",
    "    update_learning_rate=0.01,\n",
    "    update_momentum=0.9,\n",
    "    regression=True,  # flag to indicate we're dealing with regression problem\n",
    "    max_epochs=400,  # we want to train this many epochs\n",
    "    verbose=1,\n",
    ")"
   ]
  },
  {
   "cell_type": "code",
   "execution_count": 5,
   "metadata": {
    "collapsed": false
   },
   "outputs": [
    {
     "name": "stdout",
     "output_type": "stream",
     "text": [
      "Loaded parameters to layer 'dense1' (shape 10x10).\n",
      "Loaded parameters to layer 'dense1' (shape 10).\n",
      "Loaded parameters to layer 'dense2' (shape 10x1).\n",
      "Loaded parameters to layer 'dense2' (shape 1).\n"
     ]
    }
   ],
   "source": [
    "net1.load_params_from('nnParam.tdn')"
   ]
  },
  {
   "cell_type": "code",
   "execution_count": 7,
   "metadata": {
    "collapsed": true
   },
   "outputs": [],
   "source": [
    "raw_data = pd.read_csv('ita_public_tools/output/data.csv')"
   ]
  },
  {
   "cell_type": "code",
   "execution_count": 9,
   "metadata": {
    "collapsed": false
   },
   "outputs": [],
   "source": [
    "data = raw_data.groupby('Timestamp').count()[\"Timestamp\"]"
   ]
  },
  {
   "cell_type": "code",
   "execution_count": 40,
   "metadata": {
    "collapsed": true
   },
   "outputs": [],
   "source": [
    "data_demo = data[0:100]"
   ]
  },
  {
   "cell_type": "code",
   "execution_count": 45,
   "metadata": {
    "collapsed": false
   },
   "outputs": [],
   "source": [
    "X_training = np.asarray([[data_demo.iloc[t-i-1] for i in range(0,10)]\n",
    "                 for t in np.arange(10,data_demo.shape[0])])"
   ]
  },
  {
   "cell_type": "code",
   "execution_count": 49,
   "metadata": {
    "collapsed": false
   },
   "outputs": [
    {
     "data": {
      "text/plain": [
       "(90, 10)"
      ]
     },
     "execution_count": 49,
     "metadata": {},
     "output_type": "execute_result"
    }
   ],
   "source": [
    "X_test = np.asarray([[data.iloc[t-i-1] for i in range(0,10)]\n",
    "                 for t in np.arange(10,100)])\n",
    "X_test.shape"
   ]
  },
  {
   "cell_type": "code",
   "execution_count": 53,
   "metadata": {
    "collapsed": false
   },
   "outputs": [
    {
     "data": {
      "text/plain": [
       "array([ 5,  4, 19,  8, 11,  3,  9, 10, 13, 15, 16, 16, 12,  6,  6, 15, 15,\n",
       "       10,  4,  7, 10,  7,  6,  4,  1,  2,  6, 12,  6,  6,  3, 17, 10, 11,\n",
       "        3,  4, 10,  5, 13, 12,  5, 11,  6,  7,  5, 18,  7, 14, 14, 17,  7,\n",
       "       13,  8, 10, 14, 18, 21, 24, 14,  9, 19,  9, 15, 16, 19, 15, 17, 12,\n",
       "       14,  5, 17, 11, 13, 13, 12, 13, 15, 17, 12, 23, 11, 20,  7, 11, 15,\n",
       "        5, 13, 13, 11,  6])"
      ]
     },
     "execution_count": 53,
     "metadata": {},
     "output_type": "execute_result"
    }
   ],
   "source": [
    "y_test = np.asarray(data.iloc[10:100])\n",
    "y_test"
   ]
  },
  {
   "cell_type": "code",
   "execution_count": 55,
   "metadata": {
    "collapsed": false
   },
   "outputs": [],
   "source": [
    "pred = np.asarray(net1.predict(X_test))\n",
    "ax = pl.subplot()\n",
    "ax.set_color_cycle(['blue','red'])\n",
    "ax.plot(y_test,label=\"actual\")\n",
    "ax.plot(pred,label=\"predict\")\n",
    "ax.legend()\n",
    "pl.show()"
   ]
  },
  {
   "cell_type": "code",
   "execution_count": 74,
   "metadata": {
    "collapsed": true
   },
   "outputs": [],
   "source": [
    "store[\"dataTest\"] = data"
   ]
  },
  {
   "cell_type": "code",
   "execution_count": 75,
   "metadata": {
    "collapsed": true
   },
   "outputs": [],
   "source": [
    "store.close()"
   ]
  },
  {
   "cell_type": "code",
   "execution_count": 76,
   "metadata": {
    "collapsed": false
   },
   "outputs": [
    {
     "data": {
      "text/plain": [
       "<class 'pandas.io.pytables.HDFStore'>\n",
       "File path: storeTraffic.h5\n",
       "File is CLOSED"
      ]
     },
     "execution_count": 76,
     "metadata": {},
     "output_type": "execute_result"
    }
   ],
   "source": [
    "store\n",
    "\n"
   ]
  },
  {
   "cell_type": "code",
   "execution_count": null,
   "metadata": {
    "collapsed": true
   },
   "outputs": [],
   "source": []
  }
 ],
 "metadata": {
  "kernelspec": {
   "display_name": "Python 2",
   "language": "python",
   "name": "python2"
  },
  "language_info": {
   "codemirror_mode": {
    "name": "ipython",
    "version": 2
   },
   "file_extension": ".py",
   "mimetype": "text/x-python",
   "name": "python",
   "nbconvert_exporter": "python",
   "pygments_lexer": "ipython2",
   "version": "2.7.6"
  }
 },
 "nbformat": 4,
 "nbformat_minor": 0
}
