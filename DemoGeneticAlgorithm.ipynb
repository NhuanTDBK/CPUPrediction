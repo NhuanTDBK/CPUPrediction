{
 "metadata": {
  "name": ""
 },
 "nbformat": 3,
 "nbformat_minor": 0,
 "worksheets": [
  {
   "cells": [
    {
     "cell_type": "code",
     "collapsed": false,
     "input": [
      "from __future__ import division\n",
      "import os\n",
      "import numpy as np\n",
      "import pandas as pd\n",
      "import random\n",
      "import matplotlib.pyplot as plt\n",
      "import theano\n",
      "T = theano.tensor\n",
      "from sklearn.metrics import mean_squared_error\n",
      "import pickle as pkl\n",
      "from math import sqrt\n",
      "raw_data = pd.read_csv(\"/home/nhuan/MyWorking/tpds-2012-workload.csv\");"
     ],
     "language": "python",
     "metadata": {},
     "outputs": [],
     "prompt_number": 51
    },
    {
     "cell_type": "code",
     "collapsed": false,
     "input": [
      "params = [100, 0.3, 250,10,20]\n",
      "X_training = np.asarray([[raw_data.ix[t-i][4] for i in range(1,11)]\n",
      "             for t in np.arange(10,1100)])\n",
      "y_training = np.asarray([raw_data.ix[t][4] \n",
      "             for t in np.arange(10,1100)])\n",
      "# init pop size, mut rate, number of generation, chromoesome length, winner per gen]\n",
      "fan_in = fan_out = 10"
     ],
     "language": "python",
     "metadata": {},
     "outputs": [],
     "prompt_number": 86
    },
    {
     "cell_type": "code",
     "collapsed": false,
     "input": [
      "class GA:\n",
      "    def __init__(self,dataset,params,fan_in,fan_out):\n",
      "        self.raw_data = dataset\n",
      "        self.params = params\n",
      "        self.lim = np.sqrt(6)/np.sqrt((fan_in+fan_out))\n",
      "    def initPop(self):\n",
      "        #random pick 100*10 element\n",
      "        self.curPop = np.random.choice(np.arange(-self.lim,self.lim,step=0.0001),\n",
      "                                  size=(self.params[0],self.params[3]),\n",
      "                                  replace=False)\n",
      "        # init next pop\n",
      "        self.nextPop = np.zeros((self.curPop.shape[0],self.curPop.shape[1]))\n",
      "        # fitness values for rank\n",
      "        self.fitVec = np.zeros((self.params[0],2))\n",
      "    def selection(self,X_training,y_training):\n",
      "        for i in range(self.params[2]):\n",
      "            self.fitVec = np.array([np.array([x, \n",
      "                                    np.sum(self.costFunction(X_training,y_training,self.curPop[x].reshape(10,1)))]) \n",
      "                                    for x in range(self.params[0])])\n",
      "            winners = np.zeros((self.params[4],self.params[3]))\n",
      "            for n in range(len(winners)):\n",
      "                selected = np.random.choice(range(len(self.fitVec)),self.params[4]/2,replace=False)\n",
      "                wnr = np.argmin(self.fitVec[selected,1])\n",
      "                winners[n] = self.curPop[int(self.fitVec[selected[wnr]][0])]\n",
      "            self.nextPop[:len(winners)] = winners\n",
      "            self.nextPop[len(winners):] = np.array([\n",
      "                    np.array(np.random.permutation(np.repeat(winners[:,x],(self.params[0]-len(winners))/len(winners),axis=0))) \n",
      "                    for x in range(winners.shape[1])]).T\n",
      "            self.nextPop = np.multiply(self.nextPop,np.matrix([np.float(np.random.normal(0,2,1) if random.random() < self.params[1] else 1)\n",
      "                                                                 for x in range(self.nextPop.size)]).reshape(self.nextPop.shape))\n",
      "            self.curPop = self.nextPop\n",
      "        return self.curPop[np.argmin(self.fitVec[:1])]\n",
      "    def fit(self,X_training,y_training):\n",
      "        self.initPop()\n",
      "        return self.selection(X_training,y_training)\n",
      "    def sigmoid(self,x):\n",
      "        return 1.0 / (1 + np.exp(-x))\n",
      "    def costFunction(self,X,y,theta):\n",
      "        m = float(len(X))\n",
      "        hThetaX = np.array(self.sigmoid(np.dot(X,theta)))\n",
      "        return np.sum(np.abs(y-hThetaX))"
     ],
     "language": "python",
     "metadata": {},
     "outputs": [],
     "prompt_number": 74
    },
    {
     "cell_type": "code",
     "collapsed": false,
     "input": [
      "ga = GA(raw_data,params,fan_in,fan_out)\n",
      "theta_in = ga.fit(X_training,y_training)\n",
      "pred_y = ga.sigmoid(np.dot(X_training,theta_in.T))\n",
      "print sqrt(mean_squared_error(y_training,pred_y))\n"
     ],
     "language": "python",
     "metadata": {},
     "outputs": [
      {
       "output_type": "stream",
       "stream": "stdout",
       "text": [
        "0.194405305263\n"
       ]
      }
     ],
     "prompt_number": 87
    },
    {
     "cell_type": "code",
     "collapsed": false,
     "input": [
      "ax = plt.subplot()\n",
      "ax.set_color_cycle(['blue','red'])\n",
      "ax.plot(y_training,label=\"actual\")\n",
      "ax.plot(pred_y,label=\"predict\")\n",
      "ax.legend()\n",
      "plt.show()"
     ],
     "language": "python",
     "metadata": {},
     "outputs": [],
     "prompt_number": 80
    },
    {
     "cell_type": "code",
     "collapsed": false,
     "input": [
      "theta = theta_in #0.06\n",
      "theta"
     ],
     "language": "python",
     "metadata": {},
     "outputs": [
      {
       "metadata": {},
       "output_type": "pyout",
       "prompt_number": 83,
       "text": [
        "matrix([[ -5.01009959e+00,  -1.07192371e+00,  -5.20658275e+00,\n",
        "          -4.11202947e+00,  -4.35177009e+00,  -4.66943779e-07,\n",
        "          -1.70772335e-01,   3.82606790e-03,  -1.69578021e-02,\n",
        "           1.74504722e-05]])"
       ]
      }
     ],
     "prompt_number": 83
    },
    {
     "cell_type": "code",
     "collapsed": false,
     "input": [
      "pkl.dump(theta,open('save.p', 'wb'))\n",
      "t = pkl.load(open('save.p', 'rb'))\n",
      "t"
     ],
     "language": "python",
     "metadata": {},
     "outputs": [
      {
       "metadata": {},
       "output_type": "pyout",
       "prompt_number": 84,
       "text": [
        "matrix([[ -5.01009959e+00,  -1.07192371e+00,  -5.20658275e+00,\n",
        "          -4.11202947e+00,  -4.35177009e+00,  -4.66943779e-07,\n",
        "          -1.70772335e-01,   3.82606790e-03,  -1.69578021e-02,\n",
        "           1.74504722e-05]])"
       ]
      }
     ],
     "prompt_number": 84
    },
    {
     "cell_type": "code",
     "collapsed": false,
     "input": [],
     "language": "python",
     "metadata": {},
     "outputs": []
    }
   ],
   "metadata": {}
  }
 ]
}